{
 "cells": [
  {
   "cell_type": "code",
   "execution_count": 3,
   "id": "44d26d95-b36c-4add-9157-0f4e678e5998",
   "metadata": {},
   "outputs": [
    {
     "name": "stdout",
     "output_type": "stream",
     "text": [
      "Loading data...\n",
      "Loaded 1540 rows and 17 columns.\n",
      "Starting preprocessing...\n",
      "Numeric columns: ['total_runs', 'total_balls_faced', 'total_wickets_taken', 'total_runs_conceded', 'total_overs_bowled', 'total_matches_played', 'matches_played_as_batter', 'matches_played_as_bowler', 'matches_won', 'matches_lost', 'player_of_match_awards']\n",
      "Categorical columns: ['player_name', 'role', 'strike_rate', 'team', 'average', 'percentage']\n",
      "Saving processed data to processed_odi_cricket_data.csv\n",
      "ETL complete!\n"
     ]
    }
   ],
   "source": [
    "import pandas as pd\n",
    "from sklearn.preprocessing import StandardScaler, LabelEncoder\n",
    "from sklearn.impute import SimpleImputer\n",
    "import os\n",
    "def load_data(file_path):\n",
    "    print(\"Loading data...\")\n",
    "    df = pd.read_csv(file_path)\n",
    "    print(f\"Loaded {df.shape[0]} rows and {df.shape[1]} columns.\")\n",
    "    return df\n",
    "def preprocess_data(df):\n",
    "    print(\"Starting preprocessing...\")\n",
    "    num_cols = df.select_dtypes(include=['int64', 'float64']).columns.tolist()\n",
    "    cat_cols = df.select_dtypes(include=['object']).columns.tolist()\n",
    "\n",
    "    print(f\"Numeric columns: {num_cols}\")\n",
    "    print(f\"Categorical columns: {cat_cols}\")\n",
    "    num_imputer = SimpleImputer(strategy='mean')\n",
    "    df[num_cols] = num_imputer.fit_transform(df[num_cols])\n",
    "\n",
    "    cat_imputer = SimpleImputer(strategy='most_frequent')\n",
    "    df[cat_cols] = cat_imputer.fit_transform(df[cat_cols])\n",
    "    for col in cat_cols:\n",
    "        le = LabelEncoder()\n",
    "        df[col] = le.fit_transform(df[col])\n",
    "    scaler = StandardScaler()\n",
    "    df[num_cols] = scaler.fit_transform(df[num_cols])\n",
    "\n",
    "    return df\n",
    "def save_processed_data(df, output_path):\n",
    "    print(f\"Saving processed data to {output_path}\")\n",
    "    df.to_csv(output_path, index=False)\n",
    "def run_pipeline(input_file, output_file):\n",
    "    df = load_data(input_file)\n",
    "    df_clean = preprocess_data(df)\n",
    "    save_processed_data(df_clean, output_file)\n",
    "    print(\"ETL complete!\")\n",
    "if __name__ == \"__main__\":\n",
    "    input_file = \"ODI Cricket Data.csv\"\n",
    "    output_file = \"processed_odi_cricket_data.csv\"\n",
    "    run_pipeline(input_file, output_file)\n"
   ]
  },
  {
   "cell_type": "code",
   "execution_count": 4,
   "id": "b860b22c-a924-4974-b4cb-c99fe342a37c",
   "metadata": {},
   "outputs": [
    {
     "name": "stdout",
     "output_type": "stream",
     "text": [
      "        player_name    role  total_runs            strike_rate  \\\n",
      "0           V Kohli  Batter       13784  9.170.381.212.161.530   \n",
      "1     KC Sangakkara  Batter       11618  7.939.046.057.127.230   \n",
      "2         RG Sharma  Batter       10646  9.035.817.348.497.700   \n",
      "3          MS Dhoni  Batter       10274  8.497.932.175.351.530   \n",
      "4    AB de Villiers  Batter        9435  9.944.139.966.273.180   \n",
      "5        TM Dilshan  Batter        9212  8.547.833.348.798.360   \n",
      "6       LRPL Taylor  Batter        8126  8.093.625.498.007.960   \n",
      "7  DPMD Jayawardene  Batter        8040  7.857.701.329.163.400   \n",
      "8           HM Amla  Batter        7834  8.648.708.324.133.360   \n",
      "9       Tamim Iqbal  Batter        7648    766.409.459.865.718   \n",
      "\n",
      "   total_balls_faced  total_wickets_taken  total_runs_conceded  \\\n",
      "0              15031                    7                  681   \n",
      "1              14634                    0                    0   \n",
      "2              11782                   11                  538   \n",
      "3              12090                    1                   32   \n",
      "4               9488                    7                  205   \n",
      "5              10777                   97                 4197   \n",
      "6              10040                    0                   35   \n",
      "7              10232                    2                   63   \n",
      "8               9058                    0                    0   \n",
      "9               9979                    0                   13   \n",
      "\n",
      "   total_overs_bowled  total_matches_played  matches_played_as_batter  \\\n",
      "0                 671                   579                       579   \n",
      "1                   0                   510                       510   \n",
      "2                 614                   577                       577   \n",
      "3                  38                   575                       575   \n",
      "4                 201                   466                       466   \n",
      "5                5141                   510                       510   \n",
      "6                  45                   444                       444   \n",
      "7                  72                   510                       510   \n",
      "8                   0                   470                       470   \n",
      "9                   7                   345                       345   \n",
      "\n",
      "   matches_played_as_bowler  matches_won  matches_lost  \\\n",
      "0                         0          360           219   \n",
      "1                         0          237           273   \n",
      "2                         0          358           219   \n",
      "3                         0          356           219   \n",
      "4                         0          286           180   \n",
      "5                         0          237           273   \n",
      "6                         0          231           213   \n",
      "7                         0          237           273   \n",
      "8                         0          290           180   \n",
      "9                         0          134           211   \n",
      "\n",
      "   player_of_match_awards          team                average percentage  \n",
      "0                      41         India  1.969.142.857.142.850    477,93%  \n",
      "1                      26     Sri Lanka                      0    442,17%  \n",
      "2                      23         India  9.678.181.818.181.810    474,25%  \n",
      "3                      20         India                10274.0    458,87%  \n",
      "4                      26  South Africa  1.347.857.142.857.140    497,97%  \n",
      "5                      24     Sri Lanka  9.496.907.216.494.840    460,48%  \n",
      "6                      16   New Zealand                      0    447,02%  \n",
      "7                      12     Sri Lanka                 4020.0    439,63%  \n",
      "8                      16  South Africa                      0    463,41%  \n",
      "9                      13    Bangladesh                      0    433,34%  \n"
     ]
    }
   ],
   "source": [
    "import pandas as pd\n",
    "df = pd.read_csv(\"ODI Cricket Data.csv\")\n",
    "first_10_rows = df.head(10)\n",
    "print(first_10_rows)\n"
   ]
  },
  {
   "cell_type": "code",
   "execution_count": null,
   "id": "c80f5102-a1c5-4d01-a20d-0636b3059c13",
   "metadata": {},
   "outputs": [],
   "source": []
  }
 ],
 "metadata": {
  "kernelspec": {
   "display_name": "Python 3 (ipykernel)",
   "language": "python",
   "name": "python3"
  },
  "language_info": {
   "codemirror_mode": {
    "name": "ipython",
    "version": 3
   },
   "file_extension": ".py",
   "mimetype": "text/x-python",
   "name": "python",
   "nbconvert_exporter": "python",
   "pygments_lexer": "ipython3",
   "version": "3.13.2"
  }
 },
 "nbformat": 4,
 "nbformat_minor": 5
}
